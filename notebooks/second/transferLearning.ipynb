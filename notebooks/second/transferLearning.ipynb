{
 "cells": [
  {
   "cell_type": "code",
   "execution_count": 163,
   "metadata": {
    "collapsed": true,
    "ExecuteTime": {
     "start_time": "2023-03-13T14:04:33.235595Z",
     "end_time": "2023-03-13T14:04:47.228267Z"
    }
   },
   "outputs": [],
   "source": [
    "%useLatestDescriptors\n",
    "%use kotlin-dl (0.5.1)\n",
    "%use dataframe (0.9.1)"
   ]
  },
  {
   "cell_type": "code",
   "execution_count": 164,
   "outputs": [],
   "source": [
    "val EPOCHS = 3\n",
    "val TRAINING_BATCH_SIZE = 8\n",
    "val TEST_BATCH_SIZE = 16\n",
    "val NUM_CLASSES = 2\n",
    "val NUM_CHANNELS = 3\n",
    "val IMAGE_SIZE = 300\n",
    "val TRAIN_TEST_SPLIT_RATIO = 0.7\n",
    "val PATH_TO_MODEL = \"/Users/Alexey.Zinoviev/IdeaProjects/KotlinDL-for-KotlinConf2023/savedmodels/customResNet50\""
   ],
   "metadata": {
    "collapsed": false,
    "ExecuteTime": {
     "start_time": "2023-03-13T14:04:47.226386Z",
     "end_time": "2023-03-13T14:04:47.291076Z"
    }
   }
  },
  {
   "cell_type": "code",
   "execution_count": 165,
   "outputs": [],
   "source": [
    "import org.jetbrains.kotlinx.dl.api.core.Functional\n",
    "import org.jetbrains.kotlinx.dl.api.core.SavingFormat\n",
    "import org.jetbrains.kotlinx.dl.api.core.Sequential\n",
    "import org.jetbrains.kotlinx.dl.api.core.WritingMode\n",
    "import org.jetbrains.kotlinx.dl.api.core.activation.Activations\n",
    "import org.jetbrains.kotlinx.dl.api.core.initializer.GlorotUniform\n",
    "import org.jetbrains.kotlinx.dl.api.core.layer.core.Dense\n",
    "import org.jetbrains.kotlinx.dl.api.core.layer.pooling.GlobalAvgPool2D\n",
    "import org.jetbrains.kotlinx.dl.api.core.loss.Losses\n",
    "import org.jetbrains.kotlinx.dl.api.core.metric.Metrics\n",
    "import org.jetbrains.kotlinx.dl.api.core.optimizer.Adam\n",
    "import org.jetbrains.kotlinx.dl.api.inference.keras.loadWeightsForFrozenLayers\n",
    "import org.jetbrains.kotlinx.dl.api.inference.loaders.TFModelHub\n",
    "import org.jetbrains.kotlinx.dl.api.inference.loaders.TFModels\n",
    "import org.jetbrains.kotlinx.dl.api.preprocessing.pipeline\n",
    "import org.jetbrains.kotlinx.dl.dataset.OnFlyImageDataset\n",
    "import org.jetbrains.kotlinx.dl.dataset.embedded.dogsCatsSmallDatasetPath\n",
    "import org.jetbrains.kotlinx.dl.dataset.generator.FromFolders\n",
    "import org.jetbrains.kotlinx.dl.impl.preprocessing.call\n",
    "import org.jetbrains.kotlinx.dl.impl.preprocessing.image.*\n",
    "import org.jetbrains.kotlinx.dl.dataset.preprocessing.fileLoader\n",
    "import org.jetbrains.kotlinx.dl.impl.summary.logSummary\n",
    "import java.awt.image.BufferedImage\n",
    "import java.io.File"
   ],
   "metadata": {
    "collapsed": false,
    "ExecuteTime": {
     "start_time": "2023-03-13T14:04:47.272917Z",
     "end_time": "2023-03-13T14:04:47.310879Z"
    }
   }
  },
  {
   "cell_type": "code",
   "execution_count": 166,
   "outputs": [],
   "source": [
    "val modelHub = TFModelHub(cacheDirectory = File(\"../cache/pretrainedModels\"))\n",
    "val modelType = TFModels.CV.ResNet50(noTop = true, inputShape = intArrayOf(IMAGE_SIZE, IMAGE_SIZE, NUM_CHANNELS))\n",
    "val noTopModel = modelHub.loadModel(modelType)"
   ],
   "metadata": {
    "collapsed": false,
    "ExecuteTime": {
     "start_time": "2023-03-13T14:04:47.309546Z",
     "end_time": "2023-03-13T14:04:49.801467Z"
    }
   }
  },
  {
   "cell_type": "code",
   "execution_count": 167,
   "outputs": [],
   "source": [
    "val preprocessing = pipeline<BufferedImage>()\n",
    "        .resize {\n",
    "            outputHeight = IMAGE_SIZE\n",
    "            outputWidth = IMAGE_SIZE\n",
    "            interpolation = InterpolationType.BILINEAR\n",
    "        }\n",
    "        .convert { colorMode = ColorMode.BGR }\n",
    "        .toFloatArray { }\n",
    "        .call(TFModels.CV.ResNet50().preprocessor)\n",
    "\n",
    "val dataset = OnFlyImageDataset.create(\n",
    "        File(dogsCatsSmallDatasetPath(File(\"../cache\"))),\n",
    "        FromFolders(mapping = mapOf(\"cat\" to 0, \"dog\" to 1)),\n",
    "        preprocessing\n",
    "    ).shuffle()\n",
    "\n",
    "val (train, test) = dataset.split(TRAIN_TEST_SPLIT_RATIO)"
   ],
   "metadata": {
    "collapsed": false,
    "ExecuteTime": {
     "start_time": "2023-03-13T14:04:49.800195Z",
     "end_time": "2023-03-13T14:04:50.490938Z"
    }
   }
  },
  {
   "cell_type": "code",
   "execution_count": 168,
   "outputs": [],
   "source": [
    "val hdfFile = modelHub.loadWeights(modelType)"
   ],
   "metadata": {
    "collapsed": false,
    "ExecuteTime": {
     "start_time": "2023-03-13T14:04:50.489370Z",
     "end_time": "2023-03-13T14:04:50.551551Z"
    }
   }
  },
  {
   "cell_type": "code",
   "execution_count": 169,
   "outputs": [],
   "source": [
    "val topModel = Sequential.of(\n",
    "    GlobalAvgPool2D(\n",
    "        name = \"top_avg_pool\",\n",
    "    ),\n",
    "    Dense(\n",
    "        name = \"top_dense\",\n",
    "        kernelInitializer = GlorotUniform(),\n",
    "        biasInitializer = GlorotUniform(),\n",
    "        outputSize = 200,\n",
    "        activation = Activations.Relu\n",
    "    ),\n",
    "    Dense(\n",
    "        name = \"pred\",\n",
    "        kernelInitializer = GlorotUniform(),\n",
    "        biasInitializer = GlorotUniform(),\n",
    "        outputSize = NUM_CLASSES,\n",
    "        activation = Activations.Linear\n",
    "    ),\n",
    "    noInput = true\n",
    ")"
   ],
   "metadata": {
    "collapsed": false,
    "ExecuteTime": {
     "start_time": "2023-03-13T14:04:50.539263Z",
     "end_time": "2023-03-13T14:04:50.655224Z"
    }
   }
  },
  {
   "cell_type": "code",
   "execution_count": 170,
   "outputs": [],
   "source": [
    "val model = Functional.of(pretrainedModel = noTopModel, topModel = topModel)\n",
    "        model.compile(\n",
    "            optimizer = Adam(),\n",
    "            loss = Losses.SOFT_MAX_CROSS_ENTROPY_WITH_LOGITS,\n",
    "            metric = Metrics.ACCURACY\n",
    "        )"
   ],
   "metadata": {
    "collapsed": false,
    "ExecuteTime": {
     "start_time": "2023-03-13T14:04:50.648612Z",
     "end_time": "2023-03-13T14:04:50.807878Z"
    }
   }
  },
  {
   "cell_type": "code",
   "execution_count": 171,
   "outputs": [],
   "source": [
    "model.loadWeightsForFrozenLayers(hdfFile)"
   ],
   "metadata": {
    "collapsed": false,
    "ExecuteTime": {
     "start_time": "2023-03-13T14:04:50.798106Z",
     "end_time": "2023-03-13T14:04:57.604801Z"
    }
   }
  },
  {
   "cell_type": "code",
   "execution_count": 172,
   "outputs": [
    {
     "data": {
      "text/plain": "Accuracy before training 0.4241071343421936"
     },
     "execution_count": 172,
     "metadata": {},
     "output_type": "execute_result"
    }
   ],
   "source": [
    "val accuracyBeforeTraining = model.evaluate(dataset = test, batchSize = TEST_BATCH_SIZE).metrics[Metrics.ACCURACY]\n",
    "\"Accuracy before training $accuracyBeforeTraining\"\n",
    "\n"
   ],
   "metadata": {
    "collapsed": false,
    "ExecuteTime": {
     "start_time": "2023-03-13T14:04:57.603452Z",
     "end_time": "2023-03-13T14:05:01.154022Z"
    }
   }
  },
  {
   "cell_type": "markdown",
   "source": [
    "TODO: add cats, dogs wrongly classified"
   ],
   "metadata": {
    "collapsed": false
   }
  },
  {
   "cell_type": "code",
   "execution_count": 173,
   "outputs": [
    {
     "data": {
      "text/plain": "Accuracy after training 0.96875"
     },
     "execution_count": 173,
     "metadata": {},
     "output_type": "execute_result"
    }
   ],
   "source": [
    "val trainHistory = model.fit(\n",
    "    dataset = train,\n",
    "    batchSize = TRAINING_BATCH_SIZE,\n",
    "    epochs = EPOCHS\n",
    ")\n",
    "\n",
    "val accuracyAfterTraining = model.evaluate(dataset = test, batchSize = TEST_BATCH_SIZE).metrics[Metrics.ACCURACY]\n",
    "\n",
    "\"Accuracy after training $accuracyAfterTraining\""
   ],
   "metadata": {
    "collapsed": false,
    "ExecuteTime": {
     "start_time": "2023-03-13T14:05:01.151651Z",
     "end_time": "2023-03-13T14:05:33.239577Z"
    }
   }
  },
  {
   "cell_type": "code",
   "execution_count": 174,
   "outputs": [
    {
     "name": "stdout",
     "output_type": "stream",
     "text": [
      "    epochIndex batchIndex lossValue        metricValues\n",
      "  0          1          0  2,948558              [0.75]\n",
      "  1          1          1  0,626892               [1.5]\n",
      "  2          1          2  1,450236               [2.0]\n",
      "  3          1          3  0,758204             [2.625]\n",
      "  4          1          4  0,278900               [3.5]\n",
      "  5          1          5  0,664509             [4.125]\n",
      "  6          1          6  0,620354               [5.0]\n",
      "  7          1          7  0,371981              [5.75]\n",
      "  8          1          8  0,241257 [6.583333492279053]\n",
      "  9          2          0  0,013084               [1.0]\n",
      " 10          2          1  0,000213               [2.0]\n",
      " 11          2          2  0,103701               [3.0]\n",
      " 12          2          3  0,001088               [4.0]\n",
      " 13          2          4  0,003956               [5.0]\n",
      " 14          2          5  0,000152               [6.0]\n",
      " 15          2          6  0,001304               [7.0]\n",
      " 16          2          7  0,327463             [7.875]\n",
      " 17          2          8  0,000381             [8.875]\n",
      " 18          3          0  0,025455               [1.0]\n",
      " 19          3          1  0,000005               [2.0]\n",
      "...\n",
      "\n"
     ]
    }
   ],
   "source": [
    "val trainHistoryDF = trainHistory.batchHistory.toDataFrame()\n",
    "trainHistoryDF.print()"
   ],
   "metadata": {
    "collapsed": false,
    "ExecuteTime": {
     "start_time": "2023-03-13T14:05:33.227256Z",
     "end_time": "2023-03-13T14:05:33.570570Z"
    }
   }
  },
  {
   "cell_type": "code",
   "execution_count": 175,
   "outputs": [],
   "source": [
    "model.save(\n",
    "            File(PATH_TO_MODEL),\n",
    "            SavingFormat.JSON_CONFIG_CUSTOM_VARIABLES,\n",
    "            writingMode = WritingMode.OVERRIDE\n",
    "        )"
   ],
   "metadata": {
    "collapsed": false,
    "ExecuteTime": {
     "start_time": "2023-03-13T14:05:33.503852Z",
     "end_time": "2023-03-13T14:05:51.029606Z"
    }
   }
  },
  {
   "cell_type": "code",
   "execution_count": 176,
   "outputs": [],
   "source": [
    "model.close()"
   ],
   "metadata": {
    "collapsed": false,
    "ExecuteTime": {
     "start_time": "2023-03-13T14:05:51.027753Z",
     "end_time": "2023-03-13T14:05:51.247364Z"
    }
   }
  },
  {
   "cell_type": "code",
   "execution_count": 177,
   "outputs": [],
   "source": [
    "val model2 = Functional.loadModelConfiguration(File(\"$PATH_TO_MODEL/modelConfig.json\"))\n",
    "\n",
    "    val fileDataLoader = pipeline<BufferedImage>()\n",
    "        .resize {\n",
    "            outputHeight = IMAGE_SIZE\n",
    "            outputWidth = IMAGE_SIZE\n",
    "            interpolation = InterpolationType.BILINEAR\n",
    "        }\n",
    "        .convert { colorMode = ColorMode.BGR }\n",
    "        .toFloatArray { }\n",
    "        .call(TFModels.CV.ResNet50().preprocessor)\n",
    "        .fileLoader()"
   ],
   "metadata": {
    "collapsed": false,
    "ExecuteTime": {
     "start_time": "2023-03-13T14:05:51.243372Z",
     "end_time": "2023-03-13T14:05:56.263813Z"
    }
   }
  },
  {
   "cell_type": "code",
   "execution_count": 178,
   "outputs": [],
   "source": [
    "fun setUpModel(it: Functional) {\n",
    "    it.compile(\n",
    "        optimizer = RMSProp(),\n",
    "        loss = Losses.MAE,\n",
    "        metric = Metrics.ACCURACY\n",
    "    )\n",
    "    it.logSummary()\n",
    "\n",
    "    it.loadWeights(File(PATH_TO_MODEL))\n",
    "}"
   ],
   "metadata": {
    "collapsed": false,
    "ExecuteTime": {
     "start_time": "2023-03-13T14:05:56.208367Z",
     "end_time": "2023-03-13T14:05:56.392847Z"
    }
   }
  },
  {
   "cell_type": "code",
   "execution_count": 179,
   "outputs": [
    {
     "name": "stdout",
     "output_type": "stream",
     "text": [
      "CATS\n",
      "Predicted object for cat.0.jpg is 0\n",
      "Predicted object for cat.1.jpg is 0\n",
      "Predicted object for cat.2.jpg is 0\n",
      "Predicted object for cat.3.jpg is 0\n",
      "Predicted object for cat.4.jpg is 0\n",
      "Predicted object for cat.5.jpg is 0\n",
      "Predicted object for cat.6.jpg is 0\n",
      "Predicted object for cat.7.jpg is 0\n",
      "Predicted object for cat.8.jpg is 0\n",
      "Predicted object for cat.9.jpg is 0\n",
      "Predicted object for cat.10.jpg is 0\n",
      "Predicted object for cat.11.jpg is 0\n",
      "Predicted object for cat.12.jpg is 0\n",
      "Predicted object for cat.13.jpg is 0\n",
      "Predicted object for cat.14.jpg is 0\n",
      "Predicted object for cat.15.jpg is 0\n",
      "Predicted object for cat.16.jpg is 0\n",
      "Predicted object for cat.17.jpg is 0\n",
      "Predicted object for cat.18.jpg is 0\n",
      "Predicted object for cat.19.jpg is 0\n",
      "Predicted object for cat.20.jpg is 0\n",
      "Predicted object for cat.21.jpg is 0\n",
      "Predicted object for cat.22.jpg is 0\n",
      "Predicted object for cat.23.jpg is 0\n",
      "Predicted object for cat.24.jpg is 0\n",
      "Predicted object for cat.25.jpg is 0\n",
      "Predicted object for cat.26.jpg is 0\n",
      "Predicted object for cat.27.jpg is 0\n",
      "Predicted object for cat.28.jpg is 0\n",
      "Predicted object for cat.29.jpg is 0\n",
      "Predicted object for cat.30.jpg is 0\n",
      "Predicted object for cat.31.jpg is 0\n",
      "Predicted object for cat.32.jpg is 0\n",
      "Predicted object for cat.33.jpg is 0\n",
      "Predicted object for cat.34.jpg is 0\n",
      "Predicted object for cat.35.jpg is 0\n",
      "Predicted object for cat.36.jpg is 0\n",
      "Predicted object for cat.37.jpg is 0\n",
      "Predicted object for cat.38.jpg is 0\n",
      "Predicted object for cat.39.jpg is 0\n",
      "Predicted object for cat.40.jpg is 0\n",
      "Predicted object for cat.41.jpg is 0\n",
      "Predicted object for cat.42.jpg is 0\n",
      "Predicted object for cat.43.jpg is 0\n",
      "Predicted object for cat.44.jpg is 1\n",
      "Predicted object for cat.45.jpg is 0\n",
      "Predicted object for cat.46.jpg is 0\n",
      "Predicted object for cat.47.jpg is 0\n",
      "Predicted object for cat.48.jpg is 0\n",
      "Predicted object for cat.49.jpg is 0\n",
      "DOGS\n",
      "Predicted object for dog.0.jpg is 1\n",
      "Predicted object for dog.1.jpg is 1\n",
      "Predicted object for dog.2.jpg is 1\n",
      "Predicted object for dog.3.jpg is 1\n",
      "Predicted object for dog.4.jpg is 1\n",
      "Predicted object for dog.5.jpg is 1\n",
      "Predicted object for dog.6.jpg is 1\n",
      "Predicted object for dog.7.jpg is 1\n",
      "Predicted object for dog.8.jpg is 1\n",
      "Predicted object for dog.9.jpg is 1\n",
      "Predicted object for dog.10.jpg is 1\n",
      "Predicted object for dog.11.jpg is 1\n",
      "Predicted object for dog.12.jpg is 1\n",
      "Predicted object for dog.13.jpg is 1\n",
      "Predicted object for dog.14.jpg is 1\n",
      "Predicted object for dog.15.jpg is 1\n",
      "Predicted object for dog.16.jpg is 1\n",
      "Predicted object for dog.17.jpg is 1\n",
      "Predicted object for dog.18.jpg is 1\n",
      "Predicted object for dog.19.jpg is 1\n",
      "Predicted object for dog.20.jpg is 1\n",
      "Predicted object for dog.21.jpg is 1\n",
      "Predicted object for dog.22.jpg is 1\n",
      "Predicted object for dog.23.jpg is 1\n",
      "Predicted object for dog.24.jpg is 1\n",
      "Predicted object for dog.25.jpg is 1\n",
      "Predicted object for dog.26.jpg is 1\n",
      "Predicted object for dog.27.jpg is 1\n",
      "Predicted object for dog.28.jpg is 1\n",
      "Predicted object for dog.29.jpg is 1\n",
      "Predicted object for dog.30.jpg is 1\n",
      "Predicted object for dog.31.jpg is 1\n",
      "Predicted object for dog.32.jpg is 1\n",
      "Predicted object for dog.33.jpg is 1\n",
      "Predicted object for dog.34.jpg is 1\n",
      "Predicted object for dog.35.jpg is 1\n",
      "Predicted object for dog.36.jpg is 1\n",
      "Predicted object for dog.37.jpg is 1\n",
      "Predicted object for dog.38.jpg is 1\n",
      "Predicted object for dog.39.jpg is 1\n",
      "Predicted object for dog.40.jpg is 1\n",
      "Predicted object for dog.41.jpg is 1\n",
      "Predicted object for dog.42.jpg is 1\n",
      "Predicted object for dog.43.jpg is 1\n",
      "Predicted object for dog.44.jpg is 1\n",
      "Predicted object for dog.45.jpg is 1\n",
      "Predicted object for dog.46.jpg is 1\n",
      "Predicted object for dog.47.jpg is 1\n",
      "Predicted object for dog.48.jpg is 1\n",
      "Predicted object for dog.49.jpg is 1\n"
     ]
    }
   ],
   "source": [
    " model2.use {\n",
    "        setUpModel(it)\n",
    "        println(\"CATS\")\n",
    "        for (i in 0..49) {\n",
    "            val inputData = fileDataLoader.load(File(\"../cache/datasets/small-dogs-vs-cats/cat/cat.$i.jpg\")).first\n",
    "            val res = it.predict(inputData)\n",
    "            println(\"Predicted object for cat.$i.jpg is $res\")\n",
    "        }\n",
    "\n",
    "        println(\"DOGS\")\n",
    "\n",
    "        for (i in 0..49) {\n",
    "            val inputData = fileDataLoader.load(File(\"../cache/datasets/small-dogs-vs-cats/dog/dog.$i.jpg\")).first\n",
    "            val res = it.predict(inputData)\n",
    "            println(\"Predicted object for dog.$i.jpg is $res\")\n",
    "        }\n",
    "    }"
   ],
   "metadata": {
    "collapsed": false,
    "ExecuteTime": {
     "start_time": "2023-03-13T14:05:56.386063Z",
     "end_time": "2023-03-13T14:08:07.791363Z"
    }
   }
  },
  {
   "cell_type": "code",
   "execution_count": 180,
   "outputs": [],
   "source": [],
   "metadata": {
    "collapsed": false,
    "ExecuteTime": {
     "start_time": "2023-03-13T14:08:07.728575Z",
     "end_time": "2023-03-13T14:08:07.792353Z"
    }
   }
  }
 ],
 "metadata": {
  "kernelspec": {
   "display_name": "Kotlin",
   "language": "kotlin",
   "name": "kotlin"
  },
  "language_info": {
   "name": "kotlin",
   "version": "1.8.20-Beta",
   "mimetype": "text/x-kotlin",
   "file_extension": ".kt",
   "pygments_lexer": "kotlin",
   "codemirror_mode": "text/x-kotlin",
   "nbconvert_exporter": ""
  }
 },
 "nbformat": 4,
 "nbformat_minor": 0
}
