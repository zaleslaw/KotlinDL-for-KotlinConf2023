{
 "cells": [
  {
   "cell_type": "markdown",
   "source": [
    "**Pose Esimation: Model Hub**"
   ],
   "metadata": {
    "collapsed": false
   }
  },
  {
   "cell_type": "code",
   "execution_count": null,
   "outputs": [],
   "source": [
    "%useLatestDescriptors\n",
    "%use kotlin-dl (0.5.1)"
   ],
   "metadata": {
    "collapsed": false,
    "ExecuteTime": {
     "start_time": "2023-03-30T19:09:06.387941Z",
     "end_time": "2023-03-30T19:09:11.443106Z"
    },
    "is_executing": true
   }
  },
  {
   "cell_type": "code",
   "execution_count": null,
   "outputs": [],
   "source": [
    "import org.jetbrains.kotlinx.dl.api.summary.printSummary\n",
    "import org.jetbrains.kotlinx.dl.impl.preprocessing.image.ImageConverter\n",
    "import org.jetbrains.kotlinx.dl.onnx.inference.ONNXModelHub\n",
    "import org.jetbrains.kotlinx.dl.onnx.inference.ONNXModels\n",
    "import org.jetbrains.kotlinx.dl.visualization.swing.createDetectedObjectsPanel\n",
    "import org.jetbrains.kotlinx.dl.visualization.swing.showFrame\n",
    "import java.io.File\n",
    "import javax.imageio.ImageIO"
   ],
   "metadata": {
    "collapsed": false,
    "ExecuteTime": {
     "start_time": "2023-03-30T19:09:11.443488Z",
     "end_time": "2023-03-30T19:09:11.527581Z"
    },
    "is_executing": true
   }
  },
  {
   "cell_type": "code",
   "execution_count": null,
   "outputs": [],
   "source": [
    "val PATH_TO_IMAGE = \"/Users/Alexey.Zinoviev/IdeaProjects/KotlinDL-for-KotlinConf2023/src/main/resources/datasets/poses/1.jpg\"\n",
    "\n",
    "val PATH_TO_PRETRAINED_MODELS = \"../../../cache/pretrainedModels\""
   ],
   "metadata": {
    "collapsed": false,
    "ExecuteTime": {
     "start_time": "2023-03-30T19:09:11.512616Z",
     "end_time": "2023-03-30T19:09:11.633547Z"
    },
    "is_executing": true
   }
  },
  {
   "cell_type": "code",
   "execution_count": null,
   "outputs": [],
   "source": [
    "val modelHub = ONNXModelHub(cacheDirectory = File(PATH_TO_PRETRAINED_MODELS))\n",
    "val poseDetectionModel = ONNXModels.PoseDetection.MoveNetSinglePoseLighting.pretrainedModel(modelHub)"
   ],
   "metadata": {
    "collapsed": false,
    "ExecuteTime": {
     "start_time": "2023-03-30T19:09:48.421875Z",
     "end_time": "2023-03-30T19:09:48.601409Z"
    },
    "is_executing": true
   }
  },
  {
   "cell_type": "code",
   "execution_count": null,
   "outputs": [],
   "source": [
    "poseDetectionModel.printSummary()"
   ],
   "metadata": {
    "collapsed": false,
    "ExecuteTime": {
     "start_time": "2023-03-30T19:09:52.015169Z",
     "end_time": "2023-03-30T19:09:52.189598Z"
    },
    "is_executing": true
   }
  },
  {
   "cell_type": "code",
   "execution_count": null,
   "outputs": [],
   "source": [
    " DISPLAY(ImageIO.read(File(PATH_TO_IMAGE)))"
   ],
   "metadata": {
    "collapsed": false,
    "ExecuteTime": {
     "start_time": "2023-03-30T19:09:56.640456Z",
     "end_time": "2023-03-30T19:09:56.935268Z"
    },
    "is_executing": true
   }
  },
  {
   "cell_type": "code",
   "execution_count": null,
   "outputs": [],
   "source": [
    "val image = ImageConverter.toBufferedImage(File(PATH_TO_IMAGE))\n",
    "\n",
    "val detectedPose = poseDetectionModel.detectPose(image)\n",
    "poseDetectionModel.close()"
   ],
   "metadata": {
    "collapsed": false,
    "ExecuteTime": {
     "start_time": "2023-03-30T19:11:25.072833Z",
     "end_time": "2023-03-30T19:11:25.702949Z"
    },
    "is_executing": true
   }
  },
  {
   "cell_type": "code",
   "execution_count": null,
   "outputs": [],
   "source": [
    "detectedPose.landmarks.forEach {\n",
    "    println(\"Found ${it.label} with probability ${it.probability}\")\n",
    "}\n",
    "\n",
    "detectedPose.edges.forEach {\n",
    "    println(\"The ${it.label} starts at ${it.start.label} and ends with ${it.end.label}\")\n",
    "}"
   ],
   "metadata": {
    "collapsed": false,
    "ExecuteTime": {
     "start_time": "2023-03-30T19:11:32.447153Z",
     "end_time": "2023-03-30T19:11:32.787758Z"
    },
    "is_executing": true
   }
  },
  {
   "cell_type": "code",
   "execution_count": null,
   "outputs": [],
   "source": [
    "import org.jetbrains.kotlinx.dl.api.inference.objectdetection.DetectedObject\n",
    "import org.jetbrains.kotlinx.dl.api.summary.printSummary\n",
    "import org.jetbrains.kotlinx.dl.impl.preprocessing.image.ImageConverter\n",
    "import org.jetbrains.kotlinx.dl.onnx.inference.ONNXModelHub\n",
    "import org.jetbrains.kotlinx.dl.onnx.inference.ONNXModels\n",
    "import org.jetbrains.kotlinx.dl.visualization.swing.createDetectedObjectsPanel\n",
    "import org.jetbrains.kotlinx.dl.visualization.swing.showFrame\n",
    "import java.awt.BasicStroke\n",
    "import java.awt.Color\n",
    "import java.awt.Graphics2D\n",
    "import java.awt.Stroke\n",
    "import java.awt.image.BufferedImage\n",
    "import java.io.File\n",
    "import javax.imageio.ImageIO\n",
    "import kotlin.math.abs\n"
   ],
   "metadata": {
    "collapsed": false,
    "ExecuteTime": {
     "start_time": "2023-03-30T19:13:12.214614Z",
     "end_time": "2023-03-30T19:13:12.343475Z"
    },
    "is_executing": true
   }
  },
  {
   "cell_type": "code",
   "execution_count": null,
   "outputs": [],
   "source": [
    "import java.awt.Graphics2D.*\n",
    "import java.awt.geom.Ellipse2D\n",
    "import java.awt.geom.Line2D\n",
    "import java.awt.geom.Rectangle2D\n",
    "import java.awt.image.BufferedImage\n",
    "import java.awt.FontMetrics\n",
    "import java.awt.RenderingHints\n",
    "import java.awt.Font"
   ],
   "metadata": {
    "collapsed": false,
    "ExecuteTime": {
     "start_time": "2023-03-30T19:14:56.776993Z",
     "end_time": "2023-03-30T19:14:56.919413Z"
    },
    "is_executing": true
   }
  },
  {
   "cell_type": "code",
   "execution_count": null,
   "outputs": [],
   "source": [
    "import org.jetbrains.kotlinx.dl.api.inference.posedetection.DetectedPose\n",
    "\n",
    "fun drawDetectedPose(\n",
    "    image: File,\n",
    "    detectedPose: DetectedPose\n",
    "): BufferedImage {\n",
    "    val bufferedImage = ImageIO.read(image)\n",
    "\n",
    "    val newGraphics = bufferedImage.createGraphics()\n",
    "    newGraphics.drawImage(bufferedImage, 0, 0, null)\n",
    "    newGraphics.setRenderingHint(RenderingHints.KEY_ANTIALIASING, RenderingHints.VALUE_ANTIALIAS_ON)\n",
    "    newGraphics as Graphics2D\n",
    "\n",
    "    val width = bufferedImage.width\n",
    "    val height = bufferedImage.height\n",
    "\n",
    "    val landmarkColor: Color = Color.RED\n",
    "    val edgeColor: Color = Color.MAGENTA\n",
    "\n",
    "    newGraphics.stroke = BasicStroke(2f)\n",
    "    newGraphics.color = edgeColor\n",
    "    detectedPose.edges.forEach { (start, end, _, _) ->\n",
    "        newGraphics.draw(\n",
    "            Line2D.Float(\n",
    "                width * start.x, height * start.y,\n",
    "                width * end.x, height * end.y\n",
    "            )\n",
    "        )\n",
    "    }\n",
    "\n",
    "    val r = 3.0f\n",
    "    newGraphics.color = landmarkColor\n",
    "    detectedPose.landmarks.forEach { (x, y, _, _) ->\n",
    "        newGraphics.fill(Ellipse2D.Float(width * x - r, height * y - r, 2 * r, 2 * r))\n",
    "    }\n",
    "\n",
    "    ImageIO.write(bufferedImage, \"jpg\", File(\"../../../serverFiles/detectedPose.jpg\"))\n",
    "    newGraphics.dispose()\n",
    "    return bufferedImage\n",
    "}"
   ],
   "metadata": {
    "collapsed": false,
    "ExecuteTime": {
     "start_time": "2023-03-30T19:18:16.106733Z",
     "end_time": "2023-03-30T19:18:16.331575Z"
    },
    "is_executing": true
   }
  },
  {
   "cell_type": "code",
   "execution_count": null,
   "outputs": [],
   "source": [
    "val bufferedImageWithPoses = drawDetectedPose(File(PATH_TO_IMAGE), detectedPose)\n",
    "DISPLAY(bufferedImageWithPoses)"
   ],
   "metadata": {
    "collapsed": false,
    "ExecuteTime": {
     "start_time": "2023-03-30T19:18:42.347522Z",
     "end_time": "2023-03-30T19:18:42.501146Z"
    },
    "is_executing": true
   }
  },
  {
   "cell_type": "code",
   "execution_count": null,
   "outputs": [],
   "source": [],
   "metadata": {
    "collapsed": false,
    "is_executing": true
   }
  }
 ],
 "metadata": {
  "kernelspec": {
   "display_name": "Kotlin",
   "language": "kotlin",
   "name": "kotlin"
  },
  "language_info": {
   "name": "kotlin",
   "version": "1.8.20-Beta",
   "mimetype": "text/x-kotlin",
   "file_extension": ".kt",
   "pygments_lexer": "kotlin",
   "codemirror_mode": "text/x-kotlin",
   "nbconvert_exporter": ""
  }
 },
 "nbformat": 4,
 "nbformat_minor": 0
}
