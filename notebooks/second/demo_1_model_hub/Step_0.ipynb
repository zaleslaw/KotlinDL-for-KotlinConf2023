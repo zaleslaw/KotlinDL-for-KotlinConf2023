{
 "cells": [
  {
   "cell_type": "code",
   "execution_count": 1,
   "metadata": {
    "collapsed": true,
    "ExecuteTime": {
     "end_time": "2023-04-03T16:06:07.434119Z",
     "start_time": "2023-04-03T16:05:51.872431Z"
    }
   },
   "outputs": [],
   "source": [
    "%useLatestDescriptors\n",
    "%use kotlin-dl (0.5.1)"
   ]
  },
  {
   "cell_type": "code",
   "execution_count": 2,
   "outputs": [
    {
     "name": "stdout",
     "output_type": "stream",
     "text": [
      "===========================================================\r\n",
      "EfficientDetD2 model summary\r\n",
      "===========================================================\r\n",
      "Model type: ONNX\r\n",
      "___________________________________________________________\r\n",
      "Inputs         Type                                        \r\n",
      "===========================================================\r\n",
      "image_arrays:0 Tensor {dtype=UINT8, shape [-1, -1, -1, -1]}\r\n",
      "___________________________________________________________\r\n",
      "Outputs        Type                                        \r\n",
      "===========================================================\r\n",
      "detections:0   Tensor {dtype=FLOAT, shape [1, 100, 7]}     \r\n",
      "___________________________________________________________\r\n"
     ]
    }
   ],
   "source": [
    "import org.jetbrains.kotlinx.dl.api.summary.printSummary\n",
    "import org.jetbrains.kotlinx.dl.onnx.inference.ONNXModelHub\n",
    "import org.jetbrains.kotlinx.dl.onnx.inference.ONNXModels\n",
    "import java.io.File\n",
    "\n",
    "val modelHub = ONNXModelHub(cacheDirectory = File(\"../../../cache/pretrainedModels\"))\n",
    "val detectionModel = ONNXModels.ObjectDetection.EfficientDetD2.pretrainedModel(modelHub)\n",
    "detectionModel.printSummary()"
   ],
   "metadata": {
    "collapsed": false,
    "ExecuteTime": {
     "end_time": "2023-04-03T16:06:12.840647Z",
     "start_time": "2023-04-03T16:06:12.020245Z"
    }
   }
  },
  {
   "cell_type": "code",
   "execution_count": null,
   "outputs": [],
   "source": [],
   "metadata": {
    "collapsed": false
   }
  }
 ],
 "metadata": {
  "kernelspec": {
   "display_name": "Kotlin",
   "language": "kotlin",
   "name": "kotlin"
  },
  "language_info": {
   "name": "kotlin",
   "version": "1.8.20-Beta",
   "mimetype": "text/x-kotlin",
   "file_extension": ".kt",
   "pygments_lexer": "kotlin",
   "codemirror_mode": "text/x-kotlin",
   "nbconvert_exporter": ""
  }
 },
 "nbformat": 4,
 "nbformat_minor": 0
}
