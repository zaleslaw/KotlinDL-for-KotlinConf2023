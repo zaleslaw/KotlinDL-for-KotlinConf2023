{
 "cells": [
  {
   "cell_type": "code",
   "execution_count": 1,
   "outputs": [
    {
     "name": "stdout",
     "output_type": "stream",
     "text": [
      "=================================================================\r\n",
      "ResNet18 model summary\r\n",
      "=================================================================\r\n",
      "Model type: ONNX\r\n",
      "_________________________________________________________________\r\n",
      "Inputs               Type                                        \r\n",
      "=================================================================\r\n",
      "data                 Tensor {dtype=FLOAT, shape [1, 3, 224, 224]}\r\n",
      "_________________________________________________________________\r\n",
      "Outputs              Type                                        \r\n",
      "=================================================================\r\n",
      "resnetv15_dense0_fwd Tensor {dtype=FLOAT, shape [1, 1000]}       \r\n",
      "_________________________________________________________________\r\n"
     ]
    }
   ],
   "source": [
    "import org.jetbrains.kotlinx.dl.api.summary.printSummary\n",
    "import org.jetbrains.kotlinx.dl.onnx.inference.ONNXModelHub\n",
    "import org.jetbrains.kotlinx.dl.onnx.inference.ONNXModels\n",
    "import java.io.File\n",
    "\n",
    "val modelHub = ONNXModelHub(cacheDirectory = File(\"../../../cache/pretrainedModels4\"))\n",
    "\n",
    "val model = ONNXModels.CV.ResNet18.pretrainedModel(modelHub)\n",
    "\n",
    "model.printSummary()\n",
    "\n",
    "model.close()"
   ],
   "metadata": {
    "collapsed": false,
    "ExecuteTime": {
     "end_time": "2023-05-23T13:24:08.685602100Z",
     "start_time": "2023-05-23T13:24:08.247188300Z"
    }
   }
  },
  {
   "cell_type": "code",
   "execution_count": null,
   "outputs": [],
   "source": [],
   "metadata": {
    "collapsed": false
   }
  }
 ],
 "metadata": {
  "kernelspec": {
   "display_name": "Kotlin",
   "language": "kotlin",
   "name": "kotlin"
  },
  "language_info": {
   "name": "kotlin",
   "version": "1.8.20-Beta",
   "mimetype": "text/x-kotlin",
   "file_extension": ".kt",
   "pygments_lexer": "kotlin",
   "codemirror_mode": "text/x-kotlin",
   "nbconvert_exporter": ""
  },
  "ktnbPluginMetadata": {
   "isBuildProject": true
  }
 },
 "nbformat": 4,
 "nbformat_minor": 0
}
