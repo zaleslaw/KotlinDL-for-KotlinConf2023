{
 "cells": [
  {
   "cell_type": "code",
   "execution_count": 1,
   "outputs": [
    {
     "name": "stdout",
     "output_type": "stream",
     "text": [
      "=================================================================\n",
      "ResNet18 model summary\n",
      "=================================================================\n",
      "Model type: ONNX\n",
      "_________________________________________________________________\n",
      "Inputs               Type                                        \n",
      "=================================================================\n",
      "data                 Tensor {dtype=FLOAT, shape [1, 3, 224, 224]}\n",
      "_________________________________________________________________\n",
      "Outputs              Type                                        \n",
      "=================================================================\n",
      "resnetv15_dense0_fwd Tensor {dtype=FLOAT, shape [1, 1000]}       \n",
      "_________________________________________________________________\n"
     ]
    }
   ],
   "source": [
    "import org.jetbrains.kotlinx.dl.onnx.inference.ONNXModelHub\n",
    "import org.jetbrains.kotlinx.dl.onnx.inference.ONNXModels\n",
    "import java.io.File\n",
    "\n",
    "val modelHub = ONNXModelHub(cacheDirectory = File(\"../../../cache/pretrainedModels4\"))\n",
    "\n",
    "val model = ONNXModels.CV.ResNet18.pretrainedModel(modelHub)\n",
    "\n",
    "model.printSummary()\n",
    "\n",
    "model.close()"
   ],
   "metadata": {
    "collapsed": false,
    "ExecuteTime": {
     "end_time": "2023-04-14T10:24:51.275226Z",
     "start_time": "2023-04-14T10:24:50.256263Z"
    }
   }
  }
 ],
 "metadata": {
  "kernelspec": {
   "display_name": "Kotlin",
   "language": "kotlin",
   "name": "kotlin"
  },
  "language_info": {
   "name": "kotlin",
   "version": "1.8.20-Beta",
   "mimetype": "text/x-kotlin",
   "file_extension": ".kt",
   "pygments_lexer": "kotlin",
   "codemirror_mode": "text/x-kotlin",
   "nbconvert_exporter": ""
  },
  "ktnbPluginMetadata": {
   "isBuildProject": true
  }
 },
 "nbformat": 4,
 "nbformat_minor": 0
}
